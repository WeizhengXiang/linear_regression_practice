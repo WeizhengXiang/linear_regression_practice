{
 "cells": [
  {
   "cell_type": "code",
   "execution_count": null,
   "metadata": {
    "id": "0BDyonBmRNcb"
   },
   "outputs": [],
   "source": [
    "import pandas as pd\n",
    "\n",
    "# df = pd.read_csv('../data/sales.csv')\n",
    "df = pd.read_csv('sales.csv')\n",
    "df.dropna(subset=['price'], inplace=True)"
   ]
  },
  {
   "cell_type": "code",
   "execution_count": null,
   "metadata": {
    "id": "Bbsst1aVRNcf"
   },
   "outputs": [],
   "source": [
    "df['year'] = pd.to_datetime(df.purchase_date).dt.year\n",
    "train_raw = df[df.year < 2015].reset_index(drop=True)\n",
    "test_raw = df[df.year >= 2015].reset_index(drop=True)"
   ]
  },
  {
   "cell_type": "markdown",
   "metadata": {
    "id": "NMf5YrheRNcg"
   },
   "source": [
    "# 1. Data Transformation"
   ]
  },
  {
   "cell_type": "markdown",
   "metadata": {
    "id": "6IOJPf_-RNch"
   },
   "source": [
    "<font color='red'>Assignment:</font> Build a DataFrame named **train** which contains numerical values of **price** and **cost** in **train_raw**."
   ]
  },
  {
   "cell_type": "code",
   "execution_count": null,
   "metadata": {
    "id": "BbkXN1tXRNci",
    "outputId": "2d8e8e14-f341-4566-c9b9-014f2e316304"
   },
   "outputs": [
    {
     "data": {
      "text/html": [
       "<div>\n",
       "<style scoped>\n",
       "    .dataframe tbody tr th:only-of-type {\n",
       "        vertical-align: middle;\n",
       "    }\n",
       "\n",
       "    .dataframe tbody tr th {\n",
       "        vertical-align: top;\n",
       "    }\n",
       "\n",
       "    .dataframe thead th {\n",
       "        text-align: right;\n",
       "    }\n",
       "</style>\n",
       "<table border=\"1\" class=\"dataframe\">\n",
       "  <thead>\n",
       "    <tr style=\"text-align: right;\">\n",
       "      <th></th>\n",
       "      <th>cost</th>\n",
       "      <th>price</th>\n",
       "      <th>weight</th>\n",
       "      <th>purchase_date</th>\n",
       "      <th>product_type</th>\n",
       "      <th>product_level</th>\n",
       "      <th>maker</th>\n",
       "      <th>ingredient</th>\n",
       "      <th>height</th>\n",
       "      <th>width</th>\n",
       "      <th>depth</th>\n",
       "      <th>year</th>\n",
       "    </tr>\n",
       "  </thead>\n",
       "  <tbody>\n",
       "    <tr>\n",
       "      <th>0</th>\n",
       "      <td>$333k</td>\n",
       "      <td>$300,492</td>\n",
       "      <td>3 Ton 90 Kg</td>\n",
       "      <td>Dec 19 2008</td>\n",
       "      <td>Q,B</td>\n",
       "      <td>advanced</td>\n",
       "      <td>M14122</td>\n",
       "      <td>IN732052,IN732053</td>\n",
       "      <td>2.76 meters</td>\n",
       "      <td>97 cm</td>\n",
       "      <td>26 cm</td>\n",
       "      <td>2008</td>\n",
       "    </tr>\n",
       "    <tr>\n",
       "      <th>1</th>\n",
       "      <td>NaN</td>\n",
       "      <td>$430,570</td>\n",
       "      <td>3 Ton 30 Kg</td>\n",
       "      <td>Sep 10 1997</td>\n",
       "      <td>J,D</td>\n",
       "      <td>basic</td>\n",
       "      <td>NaN</td>\n",
       "      <td>IN732054,IN732055,IN732056,IN732057,IN732058</td>\n",
       "      <td>2.67 meters</td>\n",
       "      <td>98 cm</td>\n",
       "      <td>26 cm</td>\n",
       "      <td>1997</td>\n",
       "    </tr>\n",
       "    <tr>\n",
       "      <th>2</th>\n",
       "      <td>$270k</td>\n",
       "      <td>$213,070</td>\n",
       "      <td>3 Ton 40 Kg</td>\n",
       "      <td>Sep 05 2001</td>\n",
       "      <td>J,D</td>\n",
       "      <td>basic</td>\n",
       "      <td>NaN</td>\n",
       "      <td>IN732054,IN732059,IN732060</td>\n",
       "      <td>3.0 meters</td>\n",
       "      <td>93 cm</td>\n",
       "      <td>24 cm</td>\n",
       "      <td>2001</td>\n",
       "    </tr>\n",
       "    <tr>\n",
       "      <th>3</th>\n",
       "      <td>$97k</td>\n",
       "      <td>$122,659</td>\n",
       "      <td>2 Ton 970 Kg</td>\n",
       "      <td>Jan 12 2000</td>\n",
       "      <td>D,R</td>\n",
       "      <td>advanced</td>\n",
       "      <td>NaN</td>\n",
       "      <td>IN732064,IN732065,IN732066</td>\n",
       "      <td>2.47 meters</td>\n",
       "      <td>101 cm</td>\n",
       "      <td>26 cm</td>\n",
       "      <td>2000</td>\n",
       "    </tr>\n",
       "    <tr>\n",
       "      <th>4</th>\n",
       "      <td>$59k</td>\n",
       "      <td>$60,320</td>\n",
       "      <td>2 Ton 930 Kg</td>\n",
       "      <td>Aug 19 2011</td>\n",
       "      <td>H</td>\n",
       "      <td>super advanced</td>\n",
       "      <td>M14124</td>\n",
       "      <td>IN732067,IN732068,IN732069,IN732070,IN732071,I...</td>\n",
       "      <td>2.71 meters</td>\n",
       "      <td>96 cm</td>\n",
       "      <td>25 cm</td>\n",
       "      <td>2011</td>\n",
       "    </tr>\n",
       "  </tbody>\n",
       "</table>\n",
       "</div>"
      ],
      "text/plain": [
       "    cost     price        weight purchase_date product_type   product_level  \\\n",
       "0  $333k  $300,492   3 Ton 90 Kg   Dec 19 2008          Q,B        advanced   \n",
       "1    NaN  $430,570   3 Ton 30 Kg   Sep 10 1997          J,D           basic   \n",
       "2  $270k  $213,070   3 Ton 40 Kg   Sep 05 2001          J,D           basic   \n",
       "3   $97k  $122,659  2 Ton 970 Kg   Jan 12 2000          D,R        advanced   \n",
       "4   $59k   $60,320  2 Ton 930 Kg   Aug 19 2011            H  super advanced   \n",
       "\n",
       "    maker                                         ingredient       height  \\\n",
       "0  M14122                                  IN732052,IN732053  2.76 meters   \n",
       "1     NaN       IN732054,IN732055,IN732056,IN732057,IN732058  2.67 meters   \n",
       "2     NaN                         IN732054,IN732059,IN732060   3.0 meters   \n",
       "3     NaN                         IN732064,IN732065,IN732066  2.47 meters   \n",
       "4  M14124  IN732067,IN732068,IN732069,IN732070,IN732071,I...  2.71 meters   \n",
       "\n",
       "    width  depth  year  \n",
       "0   97 cm  26 cm  2008  \n",
       "1   98 cm  26 cm  1997  \n",
       "2   93 cm  24 cm  2001  \n",
       "3  101 cm  26 cm  2000  \n",
       "4   96 cm  25 cm  2011  "
      ]
     },
     "execution_count": 3,
     "metadata": {},
     "output_type": "execute_result"
    }
   ],
   "source": [
    "train_raw.head()"
   ]
  },
  {
   "cell_type": "code",
   "execution_count": null,
   "metadata": {
    "id": "cplMt4Y2RNcj"
   },
   "outputs": [],
   "source": [
    "train = pd.DataFrame(columns = ['price', 'cost'])"
   ]
  },
  {
   "cell_type": "code",
   "execution_count": null,
   "metadata": {
    "id": "Lx8UeoxqRNcj"
   },
   "outputs": [],
   "source": [
    "train['price'] = train_raw['price'].map(lambda x: x if type(x) is float else float(x.strip('$').replace(',', '')))"
   ]
  },
  {
   "cell_type": "code",
   "execution_count": null,
   "metadata": {
    "id": "s_LI9Fo8RNck"
   },
   "outputs": [],
   "source": [
    "train['cost'] = train_raw['cost'].map(lambda x: x if type(x) is float else 1000*float(x.strip('$').strip('k')))"
   ]
  },
  {
   "cell_type": "code",
   "execution_count": null,
   "metadata": {
    "id": "hktGosGrRNcl",
    "outputId": "76a0a6d2-78d6-4bed-fea5-0c5a389d0655"
   },
   "outputs": [
    {
     "data": {
      "text/html": [
       "<div>\n",
       "<style scoped>\n",
       "    .dataframe tbody tr th:only-of-type {\n",
       "        vertical-align: middle;\n",
       "    }\n",
       "\n",
       "    .dataframe tbody tr th {\n",
       "        vertical-align: top;\n",
       "    }\n",
       "\n",
       "    .dataframe thead th {\n",
       "        text-align: right;\n",
       "    }\n",
       "</style>\n",
       "<table border=\"1\" class=\"dataframe\">\n",
       "  <thead>\n",
       "    <tr style=\"text-align: right;\">\n",
       "      <th></th>\n",
       "      <th>price</th>\n",
       "      <th>cost</th>\n",
       "    </tr>\n",
       "  </thead>\n",
       "  <tbody>\n",
       "    <tr>\n",
       "      <th>0</th>\n",
       "      <td>300492.0</td>\n",
       "      <td>333000.0</td>\n",
       "    </tr>\n",
       "    <tr>\n",
       "      <th>1</th>\n",
       "      <td>430570.0</td>\n",
       "      <td>NaN</td>\n",
       "    </tr>\n",
       "    <tr>\n",
       "      <th>2</th>\n",
       "      <td>213070.0</td>\n",
       "      <td>270000.0</td>\n",
       "    </tr>\n",
       "    <tr>\n",
       "      <th>3</th>\n",
       "      <td>122659.0</td>\n",
       "      <td>97000.0</td>\n",
       "    </tr>\n",
       "    <tr>\n",
       "      <th>4</th>\n",
       "      <td>60320.0</td>\n",
       "      <td>59000.0</td>\n",
       "    </tr>\n",
       "  </tbody>\n",
       "</table>\n",
       "</div>"
      ],
      "text/plain": [
       "      price      cost\n",
       "0  300492.0  333000.0\n",
       "1  430570.0       NaN\n",
       "2  213070.0  270000.0\n",
       "3  122659.0   97000.0\n",
       "4   60320.0   59000.0"
      ]
     },
     "execution_count": 7,
     "metadata": {},
     "output_type": "execute_result"
    }
   ],
   "source": [
    "train.head()"
   ]
  },
  {
   "cell_type": "markdown",
   "metadata": {
    "id": "czJSbecHRNcm"
   },
   "source": [
    "**Example:** Generate features and target. This is not the only method, but it is highly recommended."
   ]
  },
  {
   "cell_type": "code",
   "execution_count": null,
   "metadata": {
    "id": "_oTRCIMnRNcn"
   },
   "outputs": [],
   "source": [
    "features = list(train.columns)\n",
    "target = \"price\"\n",
    "features.remove(target)\n",
    "\n",
    "X_train = train[features]\n",
    "y_train = train[target]"
   ]
  },
  {
   "cell_type": "markdown",
   "metadata": {
    "id": "QZ2_ccYfRNcn"
   },
   "source": [
    "**Example:** Imputing missing values in **X_train** using the column means."
   ]
  },
  {
   "cell_type": "code",
   "execution_count": null,
   "metadata": {
    "id": "5mwO5vfuRNcn"
   },
   "outputs": [],
   "source": [
    "X_train = X_train.fillna(X_train.mean())"
   ]
  },
  {
   "cell_type": "code",
   "execution_count": null,
   "metadata": {
    "id": "1DMBAexfRNco",
    "outputId": "1ce2181c-bc82-46e9-be5a-3c23b0a2d83b"
   },
   "outputs": [
    {
     "data": {
      "text/html": [
       "<div>\n",
       "<style scoped>\n",
       "    .dataframe tbody tr th:only-of-type {\n",
       "        vertical-align: middle;\n",
       "    }\n",
       "\n",
       "    .dataframe tbody tr th {\n",
       "        vertical-align: top;\n",
       "    }\n",
       "\n",
       "    .dataframe thead th {\n",
       "        text-align: right;\n",
       "    }\n",
       "</style>\n",
       "<table border=\"1\" class=\"dataframe\">\n",
       "  <thead>\n",
       "    <tr style=\"text-align: right;\">\n",
       "      <th></th>\n",
       "      <th>cost</th>\n",
       "    </tr>\n",
       "  </thead>\n",
       "  <tbody>\n",
       "    <tr>\n",
       "      <th>0</th>\n",
       "      <td>333000.000000</td>\n",
       "    </tr>\n",
       "    <tr>\n",
       "      <th>1</th>\n",
       "      <td>166184.183143</td>\n",
       "    </tr>\n",
       "    <tr>\n",
       "      <th>2</th>\n",
       "      <td>270000.000000</td>\n",
       "    </tr>\n",
       "    <tr>\n",
       "      <th>3</th>\n",
       "      <td>97000.000000</td>\n",
       "    </tr>\n",
       "    <tr>\n",
       "      <th>4</th>\n",
       "      <td>59000.000000</td>\n",
       "    </tr>\n",
       "  </tbody>\n",
       "</table>\n",
       "</div>"
      ],
      "text/plain": [
       "            cost\n",
       "0  333000.000000\n",
       "1  166184.183143\n",
       "2  270000.000000\n",
       "3   97000.000000\n",
       "4   59000.000000"
      ]
     },
     "execution_count": 10,
     "metadata": {},
     "output_type": "execute_result"
    }
   ],
   "source": [
    "X_train.head()"
   ]
  },
  {
   "cell_type": "markdown",
   "metadata": {
    "id": "DDoT-M-0RNco"
   },
   "source": [
    "<font color='red'>Assignment:</font> Get **X_test** and **y_test**, and impute missing values in **X_test** with means of **X_train**.  "
   ]
  },
  {
   "cell_type": "code",
   "execution_count": null,
   "metadata": {
    "id": "gmoPpUGARNco"
   },
   "outputs": [],
   "source": [
    "test = pd.DataFrame(columns = ['price', 'cost'])\n",
    "test['price'] = test_raw['price'].map(lambda x: x if type(x) is float else float(x.strip('$').replace(',', '')))\n",
    "test['cost'] = test_raw['cost'].map(lambda x: x if type(x) is float else 1000*float(x.strip('$').strip('k')))"
   ]
  },
  {
   "cell_type": "code",
   "execution_count": null,
   "metadata": {
    "id": "_0_yZlEARNcp"
   },
   "outputs": [],
   "source": [
    "X_test = test[features]\n",
    "y_test = test[target]"
   ]
  },
  {
   "cell_type": "code",
   "execution_count": null,
   "metadata": {
    "id": "zLTW-HerRNcp"
   },
   "outputs": [],
   "source": [
    "X_test = X_test.fillna(X_train.mean())"
   ]
  },
  {
   "cell_type": "code",
   "execution_count": null,
   "metadata": {
    "id": "guJxAncnRNcp",
    "outputId": "74d41dce-8e45-40f4-e58f-151cede43a41"
   },
   "outputs": [
    {
     "data": {
      "text/html": [
       "<div>\n",
       "<style scoped>\n",
       "    .dataframe tbody tr th:only-of-type {\n",
       "        vertical-align: middle;\n",
       "    }\n",
       "\n",
       "    .dataframe tbody tr th {\n",
       "        vertical-align: top;\n",
       "    }\n",
       "\n",
       "    .dataframe thead th {\n",
       "        text-align: right;\n",
       "    }\n",
       "</style>\n",
       "<table border=\"1\" class=\"dataframe\">\n",
       "  <thead>\n",
       "    <tr style=\"text-align: right;\">\n",
       "      <th></th>\n",
       "      <th>cost</th>\n",
       "    </tr>\n",
       "  </thead>\n",
       "  <tbody>\n",
       "    <tr>\n",
       "      <th>0</th>\n",
       "      <td>166184.183143</td>\n",
       "    </tr>\n",
       "    <tr>\n",
       "      <th>1</th>\n",
       "      <td>160000.000000</td>\n",
       "    </tr>\n",
       "    <tr>\n",
       "      <th>2</th>\n",
       "      <td>160000.000000</td>\n",
       "    </tr>\n",
       "    <tr>\n",
       "      <th>3</th>\n",
       "      <td>166184.183143</td>\n",
       "    </tr>\n",
       "    <tr>\n",
       "      <th>4</th>\n",
       "      <td>18000.000000</td>\n",
       "    </tr>\n",
       "  </tbody>\n",
       "</table>\n",
       "</div>"
      ],
      "text/plain": [
       "            cost\n",
       "0  166184.183143\n",
       "1  160000.000000\n",
       "2  160000.000000\n",
       "3  166184.183143\n",
       "4   18000.000000"
      ]
     },
     "execution_count": 14,
     "metadata": {},
     "output_type": "execute_result"
    }
   ],
   "source": [
    "X_test.head()"
   ]
  },
  {
   "cell_type": "markdown",
   "metadata": {
    "id": "TVd7xjnaRNcq"
   },
   "source": [
    "<font color='red'>Question:</font> Why do we use means of **X_train** rather than those of **X_test**?"
   ]
  },
  {
   "cell_type": "markdown",
   "metadata": {
    "id": "wszcoFLcRNcq"
   },
   "source": [
    "### Because the model is built based on NaN <- mean(X_train) for X_train, if for X_test, NaN <- mean(X_test), then you used a different base line.\n",
    "### We can also consider other fillna options, such as interpolation."
   ]
  },
  {
   "cell_type": "markdown",
   "metadata": {
    "id": "9Ie7TlEWRNcq"
   },
   "source": [
    "##### data leakage: any statistics used to treat test data must come from train data"
   ]
  },
  {
   "cell_type": "markdown",
   "metadata": {
    "id": "x5ZMZZvyRNcq"
   },
   "source": [
    "# 2. Linear Model"
   ]
  },
  {
   "cell_type": "code",
   "execution_count": null,
   "metadata": {
    "id": "kBcwdHjjRNcr"
   },
   "outputs": [],
   "source": [
    "from sklearn.linear_model import LinearRegression"
   ]
  },
  {
   "cell_type": "markdown",
   "metadata": {
    "id": "jxANEl5pRNcr"
   },
   "source": [
    "https://scikit-learn.org/stable/modules/generated/sklearn.linear_model.LinearRegression.html"
   ]
  },
  {
   "cell_type": "markdown",
   "metadata": {
    "id": "Wyssz-KuRNcr"
   },
   "source": [
    "**Example:** Initialize model"
   ]
  },
  {
   "cell_type": "code",
   "execution_count": null,
   "metadata": {
    "id": "c2AmUOrHRNcr"
   },
   "outputs": [],
   "source": [
    "model = LinearRegression()"
   ]
  },
  {
   "cell_type": "markdown",
   "metadata": {
    "id": "L7lt9yswRNcr"
   },
   "source": [
    "**Example:** Fit model"
   ]
  },
  {
   "cell_type": "code",
   "execution_count": null,
   "metadata": {
    "id": "it8BH5GXRNcs",
    "outputId": "9d20d0c0-fe3f-4383-9434-b2f43b56947e"
   },
   "outputs": [
    {
     "data": {
      "text/plain": [
       "LinearRegression()"
      ]
     },
     "execution_count": 17,
     "metadata": {},
     "output_type": "execute_result"
    }
   ],
   "source": [
    "model.fit(X_train, y_train)"
   ]
  },
  {
   "cell_type": "markdown",
   "metadata": {
    "id": "hmL1bK1rRNcs"
   },
   "source": [
    "**Example:** Get prediction"
   ]
  },
  {
   "cell_type": "code",
   "execution_count": null,
   "metadata": {
    "id": "CBuAWgB6RNcs"
   },
   "outputs": [],
   "source": [
    "y_train_pred = model.predict(X_train)"
   ]
  },
  {
   "cell_type": "markdown",
   "metadata": {
    "id": "_PLbsI-vRNcs"
   },
   "source": [
    "<font color='red'>Assignment:</font> Calculate **train loss**: **MAE**, **MSE**, and **R2 score**."
   ]
  },
  {
   "cell_type": "code",
   "execution_count": null,
   "metadata": {
    "id": "JKhRlfnvRNcs",
    "outputId": "374922c7-66eb-41c4-d3a6-b50dc8991fe8"
   },
   "outputs": [
    {
     "name": "stdout",
     "output_type": "stream",
     "text": [
      "train MAE: 1.15e+05\n",
      "train MSE: 2.96e+10\n",
      "train R2: 0.306\n"
     ]
    }
   ],
   "source": [
    "from sklearn.metrics import mean_absolute_error, mean_squared_error, r2_score\n",
    "\n",
    "print('train MAE: {0:.2e}'.format(mean_absolute_error(y_train, y_train_pred)))\n",
    "print('train MSE: {0:.2e}'.format(mean_squared_error(y_train, y_train_pred)))\n",
    "print('train R2: {0:.3f}'.format(r2_score(y_train, y_train_pred)))"
   ]
  },
  {
   "cell_type": "markdown",
   "metadata": {
    "id": "5uhrj_pORNct"
   },
   "source": [
    "<font color='red'>Assignment:</font> Visualize the difference between prediction and ground truth."
   ]
  },
  {
   "cell_type": "code",
   "execution_count": null,
   "metadata": {
    "id": "scmBCfARRNct"
   },
   "outputs": [],
   "source": [
    "import matplotlib.pylab as plt\n",
    "%matplotlib inline"
   ]
  },
  {
   "cell_type": "code",
   "execution_count": null,
   "metadata": {
    "id": "UjQD1RgkRNcu",
    "outputId": "260c8d78-f6bc-4c0f-a406-381d4f2814ec"
   },
   "outputs": [
    {
     "data": {
      "text/plain": [
       "Text(0, 0.5, 'y_train_pred')"
      ]
     },
     "execution_count": 21,
     "metadata": {},
     "output_type": "execute_result"
    },
    {
     "data": {
      "image/png": "[encoded data removed]",
      "text/plain": [
       "<Figure size 432x288 with 1 Axes>"
      ]
     },
     "metadata": {
      "needs_background": "light"
     },
     "output_type": "display_data"
    }
   ],
   "source": [
    "plt.scatter(y_train, y_train_pred, alpha = 0.3)\n",
    "plt.xlabel('y_train')\n",
    "plt.ylabel('y_train_pred')"
   ]
  },
  {
   "cell_type": "markdown",
   "metadata": {
    "id": "14CbVrYLRNcu"
   },
   "source": [
    "<font color='red'>Question:</font> What are the coefficient and intercept for this model?"
   ]
  },
  {
   "cell_type": "code",
   "execution_count": null,
   "metadata": {
    "id": "FvrV1f7XRNcu",
    "outputId": "80f37437-3a4c-424f-f068-636e69de5d24"
   },
   "outputs": [
    {
     "data": {
      "text/plain": [
       "array([0.98206553])"
      ]
     },
     "execution_count": 22,
     "metadata": {},
     "output_type": "execute_result"
    }
   ],
   "source": [
    "model.coef_"
   ]
  },
  {
   "cell_type": "code",
   "execution_count": null,
   "metadata": {
    "id": "7oQOqMMFRNcv",
    "outputId": "791b3d31-0a19-4132-d0cf-71a5367a0047"
   },
   "outputs": [
    {
     "data": {
      "text/plain": [
       "14657.539917452465"
      ]
     },
     "execution_count": 23,
     "metadata": {},
     "output_type": "execute_result"
    }
   ],
   "source": [
    "model.intercept_"
   ]
  },
  {
   "cell_type": "markdown",
   "metadata": {
    "id": "NZ_ubKadRNcv"
   },
   "source": [
    "**Example:** Visualize the relationship between **price** and **cost**."
   ]
  },
  {
   "cell_type": "code",
   "execution_count": null,
   "metadata": {
    "id": "eYBLU3sNRNcv"
   },
   "outputs": [],
   "source": [
    "import numpy as np\n",
    "\n",
    "def plot_cost_price(cost, price, model):\n",
    "    plt.scatter(cost, price, alpha=0.3)\n",
    "    x = np.linspace(0, 1e6)\n",
    "    y = model.predict(x.reshape(-1,1))\n",
    "    plt.plot(x, y, color='r')\n",
    "    plt.xlabel('cost')\n",
    "    plt.ylabel('price')\n",
    "    plt.xlim([0,1e6])\n",
    "    plt.ylim([0,2e6])\n",
    "    plt.show()"
   ]
  },
  {
   "cell_type": "code",
   "execution_count": null,
   "metadata": {
    "id": "6A_XuMgBRNcv",
    "outputId": "9775bb29-735b-467e-8c74-2efedf12dad0"
   },
   "outputs": [
    {
     "data": {
      "image/png": "[encoded data removed]",
      "text/plain": [
       "<Figure size 432x288 with 1 Axes>"
      ]
     },
     "metadata": {
      "needs_background": "light"
     },
     "output_type": "display_data"
    }
   ],
   "source": [
    "plot_cost_price(train.cost, train.price, model)"
   ]
  },
  {
   "cell_type": "markdown",
   "metadata": {
    "id": "kltQBqFTRNcw"
   },
   "source": [
    "<font color='red'>Assignment:</font> Calculate the **test loss**; visualize the comparision between prediction and ground truth and the relationship between **cost** and **price** with **test data**."
   ]
  },
  {
   "cell_type": "code",
   "execution_count": null,
   "metadata": {
    "id": "vngiOET1RNcw"
   },
   "outputs": [],
   "source": [
    "y_test_pred = model.predict(X_test)"
   ]
  },
  {
   "cell_type": "code",
   "execution_count": null,
   "metadata": {
    "id": "F_trwCkqRNcw",
    "outputId": "b2c038d1-c709-48a0-850d-d60771e3abc7"
   },
   "outputs": [
    {
     "name": "stdout",
     "output_type": "stream",
     "text": [
      "test MAE: 1.44e+05\n",
      "test MSE: 5.62e+10\n",
      "test R2: 0.348\n"
     ]
    }
   ],
   "source": [
    "print('test MAE: {0:.2e}'.format(mean_absolute_error(y_test, y_test_pred)))\n",
    "print('test MSE: {0:.2e}'.format(mean_squared_error(y_test, y_test_pred)))\n",
    "print('test R2: {0:.3f}'.format(r2_score(y_test, y_test_pred)))"
   ]
  },
  {
   "cell_type": "code",
   "execution_count": null,
   "metadata": {
    "id": "7zt25gJaRNcw",
    "outputId": "e782440f-4ca4-4b0c-a4f7-53d2a8aee73e"
   },
   "outputs": [
    {
     "data": {
      "text/plain": [
       "Text(0, 0.5, 'y_test_pred')"
      ]
     },
     "execution_count": 28,
     "metadata": {},
     "output_type": "execute_result"
    },
    {
     "data": {
      "image/png": "[encoded data removed]",
      "text/plain": [
       "<Figure size 432x288 with 1 Axes>"
      ]
     },
     "metadata": {
      "needs_background": "light"
     },
     "output_type": "display_data"
    }
   ],
   "source": [
    "plt.scatter(y_test, y_test_pred, alpha = 0.3)\n",
    "plt.xlabel('y_test')\n",
    "plt.ylabel('y_test_pred')"
   ]
  },
  {
   "cell_type": "code",
   "execution_count": null,
   "metadata": {
    "id": "wJXedKMqRNcw",
    "outputId": "94eba15c-ad8a-4bb8-ba2a-700afcf0d9b3"
   },
   "outputs": [
    {
     "data": {
      "image/png": "[encoded data removed]",
      "text/plain": [
       "<Figure size 432x288 with 1 Axes>"
      ]
     },
     "metadata": {
      "needs_background": "light"
     },
     "output_type": "display_data"
    }
   ],
   "source": [
    "plot_cost_price(test.cost, test.price, model)"
   ]
  },
  {
   "cell_type": "markdown",
   "metadata": {
    "id": "LxhPNpNoRNcx"
   },
   "source": [
    "# 3. Polynomial Model"
   ]
  },
  {
   "cell_type": "markdown",
   "metadata": {
    "id": "WusrICPQRNcx"
   },
   "source": [
    "## 3.1 Polynomial Features"
   ]
  },
  {
   "cell_type": "markdown",
   "metadata": {
    "id": "-yB-TTvJRNcx"
   },
   "source": [
    "**Example:** Generate polynomial features."
   ]
  },
  {
   "cell_type": "code",
   "execution_count": null,
   "metadata": {
    "id": "O051s7rPRNcx"
   },
   "outputs": [],
   "source": [
    "from sklearn.preprocessing import PolynomialFeatures"
   ]
  },
  {
   "cell_type": "code",
   "execution_count": null,
   "metadata": {
    "id": "RU1Glvy5RNcx"
   },
   "outputs": [],
   "source": [
    "pf = PolynomialFeatures(degree=3)"
   ]
  },
  {
   "cell_type": "code",
   "execution_count": null,
   "metadata": {
    "id": "5IXoQeyCRNcx",
    "outputId": "7d747375-92c3-44ce-d1b2-b41b771f0e93"
   },
   "outputs": [
    {
     "data": {
      "text/plain": [
       "array([[1.00000000e+00, 3.33000000e+05, 1.10889000e+11, 3.69260370e+16],\n",
       "       [1.00000000e+00, 1.66184183e+05, 2.76171827e+10, 4.58953895e+15],\n",
       "       [1.00000000e+00, 2.70000000e+05, 7.29000000e+10, 1.96830000e+16],\n",
       "       ...,\n",
       "       [1.00000000e+00, 1.66184183e+05, 2.76171827e+10, 4.58953895e+15],\n",
       "       [1.00000000e+00, 4.40000000e+04, 1.93600000e+09, 8.51840000e+13],\n",
       "       [1.00000000e+00, 1.28000000e+05, 1.63840000e+10, 2.09715200e+15]])"
      ]
     },
     "execution_count": 32,
     "metadata": {},
     "output_type": "execute_result"
    }
   ],
   "source": [
    "pf.fit_transform(X_train)"
   ]
  },
  {
   "cell_type": "code",
   "execution_count": null,
   "metadata": {
    "id": "NDqgeObcRNcx",
    "outputId": "2d7339a2-fa57-497d-91d5-c63a375b8dee"
   },
   "outputs": [
    {
     "data": {
      "text/plain": [
       "['1', 'x0', 'x0^2', 'x0^3']"
      ]
     },
     "execution_count": 33,
     "metadata": {},
     "output_type": "execute_result"
    }
   ],
   "source": [
    "pf.get_feature_names()"
   ]
  },
  {
   "cell_type": "code",
   "execution_count": null,
   "metadata": {
    "id": "AAHIovfxRNcy",
    "outputId": "89193d0a-17bf-48e7-cd46-de198c9a86e9"
   },
   "outputs": [
    {
     "data": {
      "text/html": [
       "<div>\n",
       "<style scoped>\n",
       "    .dataframe tbody tr th:only-of-type {\n",
       "        vertical-align: middle;\n",
       "    }\n",
       "\n",
       "    .dataframe tbody tr th {\n",
       "        vertical-align: top;\n",
       "    }\n",
       "\n",
       "    .dataframe thead th {\n",
       "        text-align: right;\n",
       "    }\n",
       "</style>\n",
       "<table border=\"1\" class=\"dataframe\">\n",
       "  <thead>\n",
       "    <tr style=\"text-align: right;\">\n",
       "      <th></th>\n",
       "      <th>1</th>\n",
       "      <th>x0</th>\n",
       "      <th>x0^2</th>\n",
       "      <th>x0^3</th>\n",
       "    </tr>\n",
       "  </thead>\n",
       "  <tbody>\n",
       "    <tr>\n",
       "      <th>0</th>\n",
       "      <td>1.0</td>\n",
       "      <td>333000.000000</td>\n",
       "      <td>1.108890e+11</td>\n",
       "      <td>3.692604e+16</td>\n",
       "    </tr>\n",
       "    <tr>\n",
       "      <th>1</th>\n",
       "      <td>1.0</td>\n",
       "      <td>166184.183143</td>\n",
       "      <td>2.761718e+10</td>\n",
       "      <td>4.589539e+15</td>\n",
       "    </tr>\n",
       "    <tr>\n",
       "      <th>2</th>\n",
       "      <td>1.0</td>\n",
       "      <td>270000.000000</td>\n",
       "      <td>7.290000e+10</td>\n",
       "      <td>1.968300e+16</td>\n",
       "    </tr>\n",
       "    <tr>\n",
       "      <th>3</th>\n",
       "      <td>1.0</td>\n",
       "      <td>97000.000000</td>\n",
       "      <td>9.409000e+09</td>\n",
       "      <td>9.126730e+14</td>\n",
       "    </tr>\n",
       "    <tr>\n",
       "      <th>4</th>\n",
       "      <td>1.0</td>\n",
       "      <td>59000.000000</td>\n",
       "      <td>3.481000e+09</td>\n",
       "      <td>2.053790e+14</td>\n",
       "    </tr>\n",
       "  </tbody>\n",
       "</table>\n",
       "</div>"
      ],
      "text/plain": [
       "     1             x0          x0^2          x0^3\n",
       "0  1.0  333000.000000  1.108890e+11  3.692604e+16\n",
       "1  1.0  166184.183143  2.761718e+10  4.589539e+15\n",
       "2  1.0  270000.000000  7.290000e+10  1.968300e+16\n",
       "3  1.0   97000.000000  9.409000e+09  9.126730e+14\n",
       "4  1.0   59000.000000  3.481000e+09  2.053790e+14"
      ]
     },
     "execution_count": 34,
     "metadata": {},
     "output_type": "execute_result"
    }
   ],
   "source": [
    "pd.DataFrame(pf.transform(X_train), \n",
    "             columns=pf.get_feature_names()).head()"
   ]
  },
  {
   "cell_type": "markdown",
   "metadata": {
    "id": "50aPfuPgRNcy"
   },
   "source": [
    "<font color='red'>Question:</font> What is each column in above dataframe?"
   ]
  },
  {
   "cell_type": "markdown",
   "metadata": {
    "id": "JX6eHwyZRNcy"
   },
   "source": [
    "### PolynomialFeatures generates a new feature matrix consisting of all polynomial combinations of the features with the given degree. in this case, the first column is train.cost to the power of 0, which is 1. Second column is train.cost. Third and forth columns are train.cost to the power of 2 and 3, respectively."
   ]
  },
  {
   "cell_type": "markdown",
   "metadata": {
    "id": "mEZMJQYKRNcy"
   },
   "source": [
    "## 3.2 Pipeline"
   ]
  },
  {
   "cell_type": "markdown",
   "metadata": {
    "id": "FyB8AWpSRNcy"
   },
   "source": [
    ":**Example:** Use **pipeline** to wrap up polynomial features and model."
   ]
  },
  {
   "cell_type": "code",
   "execution_count": null,
   "metadata": {
    "id": "BxkCKCMiRNcy"
   },
   "outputs": [],
   "source": [
    "from sklearn.pipeline import Pipeline"
   ]
  },
  {
   "cell_type": "code",
   "execution_count": null,
   "metadata": {
    "id": "1I2gKek7RNcy"
   },
   "outputs": [],
   "source": [
    "steps = [('poly', PolynomialFeatures(degree=2)),\n",
    "         ('lr', LinearRegression())]\n",
    "model_p = Pipeline(steps)"
   ]
  },
  {
   "cell_type": "markdown",
   "metadata": {
    "id": "nfqqrSV-RNcz"
   },
   "source": [
    "**Example:** use pipeline as model."
   ]
  },
  {
   "cell_type": "code",
   "execution_count": null,
   "metadata": {
    "id": "pmXE4artRNcz",
    "outputId": "2f93728d-ecc2-4672-cf12-e53f00a40e5a"
   },
   "outputs": [
    {
     "data": {
      "text/plain": [
       "Pipeline(steps=[('poly', PolynomialFeatures()), ('lr', LinearRegression())])"
      ]
     },
     "execution_count": 37,
     "metadata": {},
     "output_type": "execute_result"
    }
   ],
   "source": [
    "model_p.fit(X_train, y_train)"
   ]
  },
  {
   "cell_type": "code",
   "execution_count": null,
   "metadata": {
    "id": "xzvpdUMYRNcz"
   },
   "outputs": [],
   "source": [
    "y_train_pred_p = model_p.predict(X_train)"
   ]
  },
  {
   "cell_type": "markdown",
   "metadata": {
    "id": "CCqaI33jRNcz"
   },
   "source": [
    "https://scikit-learn.org/stable/modules/generated/sklearn.preprocessing.PolynomialFeatures.html\n",
    "\n",
    "https://hub.packtpub.com/automl-build-machine-learning-pipeline-tutorial/"
   ]
  },
  {
   "cell_type": "markdown",
   "metadata": {
    "id": "fu30cYBsRNcz"
   },
   "source": [
    "<font color='red'>Assignment:</font> Calculate regression metrics; visualize train and test lost; visualize relationship between **cost** and **price**."
   ]
  },
  {
   "cell_type": "markdown",
   "metadata": {
    "id": "NJwul454RNcz"
   },
   "source": [
    "will interview questions be like these? or it will be more clear? e.g. seperate tasks . train metrcis, train loss, train cost& price. Then test metrics, test loss, test cost& price??"
   ]
  },
  {
   "cell_type": "code",
   "execution_count": null,
   "metadata": {
    "id": "MXtHxbpfRNcz",
    "outputId": "5ce7fb8b-d512-4b05-d6f2-c88539a55191"
   },
   "outputs": [
    {
     "name": "stdout",
     "output_type": "stream",
     "text": [
      "train MAE: 1.11e+05\n",
      "train MSE: 2.88e+10\n",
      "train R2: 0.323\n"
     ]
    }
   ],
   "source": [
    "print('train MAE: {0:.2e}'.format(mean_absolute_error(y_train, y_train_pred_p)))\n",
    "print('train MSE: {0:.2e}'.format(mean_squared_error(y_train, y_train_pred_p)))\n",
    "print('train R2: {0:.3f}'.format(r2_score(y_train, y_train_pred_p)))"
   ]
  },
  {
   "cell_type": "code",
   "execution_count": null,
   "metadata": {
    "id": "_0lv0flGRNc0",
    "outputId": "226900c7-ecd0-42ef-ef06-d9a446d7b533"
   },
   "outputs": [
    {
     "data": {
      "text/plain": [
       "Text(0, 0.5, 'y_train_pred')"
      ]
     },
     "execution_count": 40,
     "metadata": {},
     "output_type": "execute_result"
    },
    {
     "data": {
      "image/png": "[encoded data removed]",
      "text/plain": [
       "<Figure size 432x288 with 1 Axes>"
      ]
     },
     "metadata": {
      "needs_background": "light"
     },
     "output_type": "display_data"
    }
   ],
   "source": [
    "plt.scatter(y_train, y_train_pred_p, alpha = 0.3)\n",
    "plt.xlabel('y_train')\n",
    "plt.ylabel('y_train_pred')"
   ]
  },
  {
   "cell_type": "code",
   "execution_count": null,
   "metadata": {
    "id": "Z8XsdAFlRNc0",
    "outputId": "378066ea-da87-4e1a-e64f-111c2a4bce36"
   },
   "outputs": [
    {
     "data": {
      "image/png": "[encoded data removed]",
      "text/plain": [
       "<Figure size 432x288 with 1 Axes>"
      ]
     },
     "metadata": {
      "needs_background": "light"
     },
     "output_type": "display_data"
    }
   ],
   "source": [
    "plot_cost_price(train.cost, train.price, model_p)"
   ]
  },
  {
   "cell_type": "code",
   "execution_count": null,
   "metadata": {
    "id": "7wmJViOfRNc0"
   },
   "outputs": [],
   "source": [
    "y_test_pred_p = model_p.predict(X_test)"
   ]
  },
  {
   "cell_type": "code",
   "execution_count": null,
   "metadata": {
    "id": "vN_CT9KrRNc0",
    "outputId": "79422d8c-7c33-49f4-9d30-1c7a3900b81b"
   },
   "outputs": [
    {
     "name": "stdout",
     "output_type": "stream",
     "text": [
      "test MAE: 1.36e+05\n",
      "test MSE: 5.20e+10\n",
      "test R2: 0.397\n"
     ]
    }
   ],
   "source": [
    "print('test MAE: {0:.2e}'.format(mean_absolute_error(y_test, y_test_pred_p)))\n",
    "print('test MSE: {0:.2e}'.format(mean_squared_error(y_test, y_test_pred_p)))\n",
    "print('test R2: {0:.3f}'.format(r2_score(y_test, y_test_pred_p)))"
   ]
  },
  {
   "cell_type": "code",
   "execution_count": null,
   "metadata": {
    "id": "MSIPN9SMRNc0",
    "outputId": "622e63b2-5cf2-4e24-dbe7-06edcb2147e7"
   },
   "outputs": [
    {
     "data": {
      "text/plain": [
       "Text(0, 0.5, 'y_test_pred')"
      ]
     },
     "execution_count": 44,
     "metadata": {},
     "output_type": "execute_result"
    },
    {
     "data": {
      "image/png": "[encoded data removed]",
      "text/plain": [
       "<Figure size 432x288 with 1 Axes>"
      ]
     },
     "metadata": {
      "needs_background": "light"
     },
     "output_type": "display_data"
    }
   ],
   "source": [
    "plt.scatter(y_test, y_test_pred_p, alpha = 0.3)\n",
    "plt.xlabel('y_test')\n",
    "plt.ylabel('y_test_pred')"
   ]
  },
  {
   "cell_type": "code",
   "execution_count": null,
   "metadata": {
    "id": "zUDuHEB6RNc0",
    "outputId": "739ef0cb-9e75-412b-b470-42835f9a245d"
   },
   "outputs": [
    {
     "data": {
      "image/png": "[encoded data removed]",
      "text/plain": [
       "<Figure size 432x288 with 1 Axes>"
      ]
     },
     "metadata": {
      "needs_background": "light"
     },
     "output_type": "display_data"
    }
   ],
   "source": [
    "plot_cost_price(test.cost, test.price, model_p)"
   ]
  },
  {
   "cell_type": "markdown",
   "metadata": {
    "id": "LAH1P619RNc1"
   },
   "source": [
    "<font color='red'>Question:</font> Does the model with polynomial features perform better? Why?"
   ]
  },
  {
   "cell_type": "markdown",
   "metadata": {
    "id": "oIMd1iPwRNc1"
   },
   "source": [
    "### Both the metrics and the plots show that the polynomial model performs better. Polynomial regression is a great way to add more flexibility in the fitting without involving more features."
   ]
  },
  {
   "cell_type": "markdown",
   "metadata": {
    "id": "eFOv9MMYRNc1"
   },
   "source": [
    "##### your model is only as good as your data\n",
    "\n",
    "1.   List item\n",
    "2.   List item\n",
    "\n"
   ]
  },
  {
   "cell_type": "markdown",
   "metadata": {
    "id": "ipHgtd8iRNc1"
   },
   "source": [
    "**Example:** Extract the linear model from pipeline"
   ]
  },
  {
   "cell_type": "code",
   "execution_count": null,
   "metadata": {
    "id": "RybIy1luRNc1"
   },
   "outputs": [],
   "source": [
    "lr = model_p.steps[1][1]"
   ]
  },
  {
   "cell_type": "markdown",
   "metadata": {
    "id": "vEQVLLopRNc1"
   },
   "source": [
    "**Example:** Extract the coefficents"
   ]
  },
  {
   "cell_type": "code",
   "execution_count": null,
   "metadata": {
    "id": "tbdBfGzERNc1",
    "outputId": "c16dec2d-1788-4dff-aad5-24cc74303e3d"
   },
   "outputs": [
    {
     "data": {
      "text/plain": [
       "array([0.00000000e+00, 4.20267056e-01, 9.92477321e-07])"
      ]
     },
     "execution_count": 47,
     "metadata": {},
     "output_type": "execute_result"
    }
   ],
   "source": [
    "lr.coef_"
   ]
  },
  {
   "cell_type": "markdown",
   "metadata": {
    "id": "CJOawPDGRNc1"
   },
   "source": [
    "<font color='red'>Question:</font> Why is the coefficient for x^2 so small?"
   ]
  },
  {
   "cell_type": "markdown",
   "metadata": {
    "id": "PyErUXMgRNc2"
   },
   "source": [
    "### Becuase of the fast growth in magnitude from cost to cost squared, the coefficient for cost squared has to be small, otherwise the fitting will be completely dominated by the cost squared term."
   ]
  },
  {
   "cell_type": "markdown",
   "metadata": {
    "id": "IOgXIeZURNc2"
   },
   "source": [
    "##### y = a1 * x and y = a2 * x^2, when x and y are given, a2 will be smaller than a1\n",
    "##### don't get confused with feature importance"
   ]
  },
  {
   "cell_type": "markdown",
   "metadata": {
    "id": "eK_xKgLsRNc2"
   },
   "source": [
    "## 3.3 Rescaling"
   ]
  },
  {
   "cell_type": "code",
   "execution_count": null,
   "metadata": {
    "id": "2aFCzWZJRNc2"
   },
   "outputs": [],
   "source": [
    "from sklearn.preprocessing import MinMaxScaler"
   ]
  },
  {
   "cell_type": "code",
   "execution_count": null,
   "metadata": {
    "id": "45GAACr0RNc2"
   },
   "outputs": [],
   "source": [
    "steps_s = [('poly', PolynomialFeatures(degree=2)),\n",
    "         ('Rescale', MinMaxScaler()),\n",
    "         ('lr', LinearRegression())]\n",
    "model_s = Pipeline(steps_s)"
   ]
  },
  {
   "cell_type": "code",
   "execution_count": null,
   "metadata": {
    "id": "dse0rWqoRNc2",
    "outputId": "2d2b27a1-f700-459c-cbc3-323fc19f18ac"
   },
   "outputs": [
    {
     "data": {
      "text/plain": [
       "Pipeline(steps=[('poly', PolynomialFeatures()), ('Rescale', MinMaxScaler()),\n",
       "                ('lr', LinearRegression())])"
      ]
     },
     "execution_count": 50,
     "metadata": {},
     "output_type": "execute_result"
    }
   ],
   "source": [
    "model_s.fit(X_train, y_train)"
   ]
  },
  {
   "cell_type": "code",
   "execution_count": null,
   "metadata": {
    "id": "r1kwwSZfRNc2",
    "outputId": "a61031d7-32d5-4455-d267-fc13e5183914"
   },
   "outputs": [
    {
     "data": {
      "text/plain": [
       "array([     0.        , 395891.5670774 , 886298.12766067])"
      ]
     },
     "execution_count": 51,
     "metadata": {},
     "output_type": "execute_result"
    }
   ],
   "source": [
    "model_s.steps[2][1].coef_"
   ]
  },
  {
   "cell_type": "markdown",
   "metadata": {
    "id": "PTk-wvznRNc2"
   },
   "source": [
    "<font color='red'>Question:</font> What does **MinMaxScaler** do? Why do we need it?"
   ]
  },
  {
   "cell_type": "markdown",
   "metadata": {
    "id": "ldbZeprqRNc3"
   },
   "source": [
    "### It transforms features by scaling each feature to the given range on the training set. Becuase of the small coefficient for the cost squared term issue mentioned above, we need to transform the features so that they are on the same scale. As we can see from the new coefficients, the issue is solved."
   ]
  },
  {
   "cell_type": "markdown",
   "metadata": {
    "id": "8snYS6JWRNc3"
   },
   "source": [
    "##### not always necessary"
   ]
  },
  {
   "cell_type": "markdown",
   "metadata": {
    "id": "AUCqHEhGRNc3"
   },
   "source": [
    "## 3.4 High degree polynomial terms"
   ]
  },
  {
   "cell_type": "markdown",
   "metadata": {
    "id": "rN6nufZZRNc3"
   },
   "source": [
    "<font color='red'>Assignment:</font> Repeat the steps in **4.2** with higher **degree** values in **PolynomialFeatures**."
   ]
  },
  {
   "cell_type": "markdown",
   "metadata": {
    "id": "IhDAohFcRNc3"
   },
   "source": [
    "##### question not clearly stated ~"
   ]
  },
  {
   "cell_type": "code",
   "execution_count": null,
   "metadata": {
    "id": "9aL2hxzWRNc3"
   },
   "outputs": [],
   "source": [
    "MAE_train = []\n",
    "MAE_test = []\n",
    "for degree in range(2, 51):\n",
    "    steps_h = [('poly', PolynomialFeatures(degree = degree)),\n",
    "               ('Rescale', MinMaxScaler()),\n",
    "               ('lr', LinearRegression())]\n",
    "    model_h = Pipeline(steps_h)\n",
    "    model_h.fit(X_train, y_train)\n",
    "    y_train_pred_h = model_h.predict(X_train)\n",
    "    y_test_pred_h = model_h.predict(X_test)\n",
    "    MAE_train.append(mean_absolute_error(y_train, y_train_pred_h))\n",
    "    MAE_test.append(mean_absolute_error(y_test, y_test_pred_h))"
   ]
  },
  {
   "cell_type": "markdown",
   "metadata": {
    "id": "_vei8hXWRNc3"
   },
   "source": [
    "<font color='red'>Assignment:</font> Visualize the change of train loss and test loss with polynomial degree value, respectively. Use **MAE**."
   ]
  },
  {
   "cell_type": "code",
   "execution_count": null,
   "metadata": {
    "id": "fPZrQnBCRNc3",
    "outputId": "e1783e03-13b8-4dcb-ab78-43fdd7c044c5"
   },
   "outputs": [
    {
     "data": {
      "text/plain": [
       "[<matplotlib.lines.Line2D at 0x145dc788788>]"
      ]
     },
     "execution_count": 53,
     "metadata": {},
     "output_type": "execute_result"
    },
    {
     "data": {
      "image/png": "[encoded data removed]",
      "text/plain": [
       "<Figure size 432x288 with 1 Axes>"
      ]
     },
     "metadata": {
      "needs_background": "light"
     },
     "output_type": "display_data"
    }
   ],
   "source": [
    "plt.plot(np.linspace(2, 50, 49), MAE_train)"
   ]
  },
  {
   "cell_type": "code",
   "execution_count": null,
   "metadata": {
    "id": "RqxbaYdGRNc4",
    "outputId": "d3c39e90-72e1-4c9a-9242-6460f3baa831"
   },
   "outputs": [
    {
     "data": {
      "text/plain": [
       "[<matplotlib.lines.Line2D at 0x145dc6a44c8>]"
      ]
     },
     "execution_count": 54,
     "metadata": {},
     "output_type": "execute_result"
    },
    {
     "data": {
      "image/png": "[encoded data removed]",
      "text/plain": [
       "<Figure size 432x288 with 1 Axes>"
      ]
     },
     "metadata": {
      "needs_background": "light"
     },
     "output_type": "display_data"
    }
   ],
   "source": [
    "plt.plot(np.linspace(2, 50, 49), MAE_test)"
   ]
  },
  {
   "cell_type": "markdown",
   "metadata": {
    "id": "htYwJ2z-RNc4"
   },
   "source": [
    "<font color='red'>Question:</font> Can we keep improving model with much higher degree polynomial terms?"
   ]
  },
  {
   "cell_type": "markdown",
   "metadata": {
    "id": "qEhGPf_6RNc4"
   },
   "source": [
    "### As we observe in the plots, the training error in general should go down (except for some spikes...), but the test error will go up after certain point, which is called overfitting."
   ]
  },
  {
   "cell_type": "markdown",
   "metadata": {
    "id": "20qbzC7fRNc4"
   },
   "source": [
    "<font color='red'>Question:</font> What is model complexity?"
   ]
  },
  {
   "cell_type": "markdown",
   "metadata": {
    "id": "TiO5c_RqRNc4"
   },
   "source": [
    "### In machine learning, model complexity often refers to the number of features included in a given predictive model. Overly complex models are less easily interpreted, at greater risk of overfitting, and will likely be more computationally expensive."
   ]
  },
  {
   "cell_type": "markdown",
   "metadata": {
    "id": "fIWUC84PRNc5"
   },
   "source": [
    "<font color='red'>Question:</font> What are overfitting and underfitting? Any examples of overfitting and underfitting above? How do you tell a model is overfit or underfit?"
   ]
  },
  {
   "cell_type": "markdown",
   "metadata": {
    "id": "VbUAssClRNc6"
   },
   "source": [
    "### An overfitted model is a model that contains more parameters than can be justified by the data. For example, the model picked up too much noise. On the other hand, underfitting occurs when a model cannot adequately capture the underlying structure of the data.\n",
    "### In our case, the linear regression model is underfitted and the polynomial models with degree more than 30 are clearly overfitted. \n",
    "### We can plot the above training and test curves, in general, the corner where the training error curve slows down in decreasing and/or the corner where the test error curve starts to go up is a good guess."
   ]
  },
  {
   "cell_type": "markdown",
   "metadata": {
    "id": "YjCCHaazRNc6"
   },
   "source": [
    "<font color='red'>Question:</font> What is bias and variance? How do they relate to overfitting and underfitting?"
   ]
  },
  {
   "cell_type": "markdown",
   "metadata": {
    "id": "2xUeaJqURNc6"
   },
   "source": [
    "### Bias means how far off our predictions are from real values. High bias can cause a model to miss the relevant relations between features and target (underfitting).\n",
    "### Variance means change in predictions across different data sets. High variance can cause a model to capture the random noise in the training data, which will not be included in the test data (overfitting)."
   ]
  },
  {
   "cell_type": "markdown",
   "metadata": {
    "id": "lFl_b3KyRNc6"
   },
   "source": [
    "##### visualization: google image"
   ]
  },
  {
   "cell_type": "markdown",
   "metadata": {
    "id": "_RuHIzzrRNc6"
   },
   "source": [
    "<font color='red'>Question:</font> What is bias-variance tradeoff?"
   ]
  },
  {
   "cell_type": "markdown",
   "metadata": {
    "id": "-i--03IcRNc6"
   },
   "source": [
    "### In order to avoid overfitting and underfitting as much as possible, we consider a bias-variance tradeoff, represented by minimizing the Total Error:\n",
    "$ Total Error(y_{pred}) = Bias(y_{pred})^{2} + Variance(y_{pred}) + Variance(y) $"
   ]
  },
  {
   "cell_type": "markdown",
   "metadata": {
    "id": "xljiUF2-RNc7"
   },
   "source": [
    "<font color='red'>Assignment:</font> Search for approaches for preventing overfitting?"
   ]
  },
  {
   "cell_type": "markdown",
   "metadata": {
    "id": "tZeknfGSRNc7"
   },
   "source": [
    "### To prevent overfitting, we can consider:\n",
    "### (1) Reduce the number of features\n",
    "### (2) Find more data\n",
    "### (3) Use regularization: L1 (Lasso), L2 (Ridge)\n",
    "### (4) Ensemble"
   ]
  },
  {
   "cell_type": "code",
   "execution_count": null,
   "metadata": {
    "id": "YD3ze7DQRNc7"
   },
   "outputs": [],
   "source": []
  }
 ],
 "metadata": {
  "colab": {
   "name": "06_linear_regression_model_updated.ipynb",
   "provenance": []
  },
  "kernelspec": {
   "display_name": "Python 3 (ipykernel)",
   "language": "python",
   "name": "python3"
  },
  "language_info": {
   "codemirror_mode": {
    "name": "ipython",
    "version": 3
   },
   "file_extension": ".py",
   "mimetype": "text/x-python",
   "name": "python",
   "nbconvert_exporter": "python",
   "pygments_lexer": "ipython3",
   "version": "3.9.13"
  }
 },
 "nbformat": 4,
 "nbformat_minor": 1
}
